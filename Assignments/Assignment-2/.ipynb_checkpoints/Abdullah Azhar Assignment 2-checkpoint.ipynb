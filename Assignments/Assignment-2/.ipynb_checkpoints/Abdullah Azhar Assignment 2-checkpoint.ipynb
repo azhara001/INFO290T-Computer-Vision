{
 "cells": [
  {
   "cell_type": "code",
   "execution_count": 4,
   "id": "5b55e27d",
   "metadata": {},
   "outputs": [],
   "source": [
    "import numpy as np\n",
    "import matplotlib.pyplot as plt \n",
    "import os \n",
    "import matplotlib.image as mpimg\n",
    "from datetime import datetime\n",
    "from PIL import Image\n",
    "\n",
    "%config InlineBackend.figure_format = 'retina'"
   ]
  },
  {
   "cell_type": "markdown",
   "id": "493b2714",
   "metadata": {},
   "source": [
    "## Importing image files using matplotlib.image and storing the numpy arrays in a list of length equals to the number of images"
   ]
  },
  {
   "cell_type": "code",
   "execution_count": 5,
   "id": "57eb6103",
   "metadata": {},
   "outputs": [
    {
     "name": "stdout",
     "output_type": "stream",
     "text": [
      "18\n"
     ]
    }
   ],
   "source": [
    "img_path = \"a2-images\"\n",
    "#img_path = \"test\"\n",
    "images_files = os.listdir(img_path)\n",
    "images=[]\n",
    "\n",
    "for image in images_files:\n",
    "    unique_path = os.path.join(img_path,image)\n",
    "    try:\n",
    "        images.append(mpimg.imread(unique_path))\n",
    "    except:\n",
    "        continue\n",
    "        \n",
    "print(len(images))"
   ]
  },
  {
   "cell_type": "code",
   "execution_count": 6,
   "id": "8c4732b9",
   "metadata": {},
   "outputs": [],
   "source": [
    "def offset_calculation(img1,img2):\n",
    "    #Function to compute the possible translations in the range of -15 to 15 and stores the SSD values corressponding\n",
    "    #to each translation and returns a dictionary with the keys as indices and the values as SSD value\n",
    "    pixel_range = 15\n",
    "    SSD = {}\n",
    "    img1_g,img2_g = img1[:,:,1],img2[:,:,1]\n",
    "    \n",
    "    for i in range(-15,16,1):\n",
    "        for j in range(-15,16,1):\n",
    "            img2_rolled = np.roll(img2_g,shift=(i,j),axis=(0,1))\n",
    "            SSD[f\"{i},{j}\"] = np.sum((img1_g-img2_rolled)**2)\n",
    "    return SSD"
   ]
  },
  {
   "cell_type": "code",
   "execution_count": 7,
   "id": "26d6a89d",
   "metadata": {},
   "outputs": [],
   "source": [
    "def calculating_min_SSD(SSD={}):\n",
    "    # Computes the minimnum value in the dictionary SSD and returns the corressponding row,column index as a tuple\n",
    "    min_value = min(SSD.values())\n",
    "    print(min_value)\n",
    "    for key,value in SSD.items():\n",
    "        if value == min_value:\n",
    "            key_converted = key.split(\",\")\n",
    "            output = (key_converted[0],key_converted[1])\n",
    "        else:\n",
    "            continue\n",
    "        print(f\"minimum SSD indices: {output} with value: {min_value}\")\n",
    "        return output"
   ]
  },
  {
   "cell_type": "code",
   "execution_count": 8,
   "id": "274322c7",
   "metadata": {},
   "outputs": [],
   "source": [
    "def averaging_images(images=[]):\n",
    "    #Computes the average of images passed in a list \n",
    "    sum_ = np.zeros(1)\n",
    "    for i,image in enumerate(images):\n",
    "        print(image.shape)\n",
    "        sum_ = sum_+image\n",
    "    \n",
    "    average = sum_/i\n",
    "    print(i)\n",
    "    return average"
   ]
  },
  {
   "cell_type": "markdown",
   "id": "bee3903c",
   "metadata": {},
   "source": [
    "### int main()"
   ]
  },
  {
   "cell_type": "code",
   "execution_count": 1,
   "id": "69c59dc1",
   "metadata": {},
   "outputs": [
    {
     "ename": "NameError",
     "evalue": "name 'images' is not defined",
     "output_type": "error",
     "traceback": [
      "\u001b[0;31m---------------------------------------------------------------------------\u001b[0m",
      "\u001b[0;31mNameError\u001b[0m                                 Traceback (most recent call last)",
      "\u001b[0;32m/var/folders/x7/x0ssjnwd7plfd4zt1413nh0w0000gn/T/ipykernel_23322/495448869.py\u001b[0m in \u001b[0;36m<module>\u001b[0;34m\u001b[0m\n\u001b[1;32m      1\u001b[0m \u001b[0mupdated_list\u001b[0m \u001b[0;34m=\u001b[0m \u001b[0;34m[\u001b[0m\u001b[0;34m]\u001b[0m\u001b[0;34m\u001b[0m\u001b[0;34m\u001b[0m\u001b[0m\n\u001b[0;32m----> 2\u001b[0;31m \u001b[0mupdated_list\u001b[0m\u001b[0;34m.\u001b[0m\u001b[0mappend\u001b[0m\u001b[0;34m(\u001b[0m\u001b[0mimages\u001b[0m\u001b[0;34m[\u001b[0m\u001b[0;36m0\u001b[0m\u001b[0;34m]\u001b[0m\u001b[0;34m)\u001b[0m\u001b[0;34m\u001b[0m\u001b[0;34m\u001b[0m\u001b[0m\n\u001b[0m\u001b[1;32m      3\u001b[0m \u001b[0;34m\u001b[0m\u001b[0m\n\u001b[1;32m      4\u001b[0m \u001b[0;32mfor\u001b[0m \u001b[0mi\u001b[0m\u001b[0;34m,\u001b[0m\u001b[0mimage\u001b[0m \u001b[0;32min\u001b[0m \u001b[0menumerate\u001b[0m\u001b[0;34m(\u001b[0m\u001b[0mimages\u001b[0m\u001b[0;34m)\u001b[0m\u001b[0;34m:\u001b[0m\u001b[0;34m\u001b[0m\u001b[0;34m\u001b[0m\u001b[0m\n\u001b[1;32m      5\u001b[0m \u001b[0;34m\u001b[0m\u001b[0m\n",
      "\u001b[0;31mNameError\u001b[0m: name 'images' is not defined"
     ]
    }
   ],
   "source": [
    "updated_list = []\n",
    "updated_list.append(images[0])\n",
    "\n",
    "for i,image in enumerate(images):\n",
    "    \n",
    "    SSD = offset_calculation(images[0],image)\n",
    "    min_pair = calculating_min_SSD(SSD)\n",
    "    shifted = np.roll(image,shift=(int(min_pair[0]),int(min_pair[1])),axis=(0,1))\n",
    "    updated_list.append(shifted)\n",
    "    plt.imsave(f\"Translated_Images/Image{i}.jpeg\",shifted)\n",
    "    \n",
    "averaged_value = averaging_images(updated_list)\n",
    "plt.imshow(averaged_value)\n",
    "\n",
    "now = datetime.now()\n",
    "current_time = now.strftime(\"%H:%M:%S\")\n",
    "\n",
    "plt.savefig(f\"Denoised Images/{current_time}.png\",dpi=500)\n",
    "print('processed')\n"
   ]
  },
  {
   "cell_type": "code",
   "execution_count": null,
   "id": "4fd95caf",
   "metadata": {},
   "outputs": [],
   "source": []
  }
 ],
 "metadata": {
  "kernelspec": {
   "display_name": "Python 3 (ipykernel)",
   "language": "python",
   "name": "python3"
  },
  "language_info": {
   "codemirror_mode": {
    "name": "ipython",
    "version": 3
   },
   "file_extension": ".py",
   "mimetype": "text/x-python",
   "name": "python",
   "nbconvert_exporter": "python",
   "pygments_lexer": "ipython3",
   "version": "3.9.12"
  }
 },
 "nbformat": 4,
 "nbformat_minor": 5
}
