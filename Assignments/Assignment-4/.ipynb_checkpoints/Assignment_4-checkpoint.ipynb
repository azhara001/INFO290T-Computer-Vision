{
 "cells": [
  {
   "cell_type": "code",
   "execution_count": null,
   "metadata": {},
   "outputs": [],
   "source": [
    "import matplotlib.pyplot as plt \n",
    "import numpy as np\n",
    "from scipy.ndimage import convolve\n",
    "from scipy import signal"
   ]
  },
  {
   "cell_type": "code",
   "execution_count": null,
   "metadata": {},
   "outputs": [],
   "source": [
    "# create a 2D Gaussian kernl\n",
    "def create_2d_gaussian(size=9, std=1.5):\n",
    "    gaussian_1d = signal.gaussian(size,std=std)\n",
    "    gaussian_2d = np.outer(gaussian_1d, gaussian_1d)\n",
    "    gaussian_2d = gaussian_2d/(gaussian_2d.sum())\n",
    "    return gaussian_2d\n",
    "\n",
    "# normalize image between 0 and 1\n",
    "def normalize_img(img):\n",
    "    normalized = (img - img.min())/(img.max() - img.min())    \n",
    "    return normalized"
   ]
  },
  {
   "cell_type": "code",
   "execution_count": null,
   "metadata": {},
   "outputs": [],
   "source": [
    "# stack visualization\n",
    "def visualize_stack(in_stack, levels, title):    \n",
    "    fig, ax = plt.subplots(nrows=2, ncols=3, figsize=(20,10))\n",
    "    ax = ax.flatten()\n",
    "    for i in range(levels):\n",
    "        ax[i].imshow(in_stack[i], cmap='gray')\n",
    "        ax[i].axis('off')\n",
    "    plt.suptitle(title)\n",
    "    plt.show()    \n",
    "    \n",
    "# build Gaussian and Laplacian stack of height levels (img is single channel)\n",
    "def gaussian_and_laplacian_stack(img, levels):\n",
    "    gaussian = create_2d_gaussian(size=17, std=3)\n",
    "    gaussian_stack = []\n",
    "    img_gaussian = img.copy()\n",
    "    for i in range(levels):\n",
    "        if i == 0:\n",
    "            gaussian_stack = [img_gaussian]\n",
    "        else:\n",
    "            gaussian_stack.append(convolve(gaussian_stack[-1], gaussian, mode='reflect'))\n",
    "    \n",
    "    laplacian_stack = []\n",
    "    #\n",
    "    # YOUR CODE HERE: create Laplcian stack and pack into the same type of data structure as gaussian_stack\n",
    "    #\n",
    "    return (gaussian_stack, laplacian_stack)\n",
    "\n",
    "# collapse Laplacian stack into single image\n",
    "def collapse_laplacian_stack(laplacian_stack):\n",
    "    #\n",
    "    # YOUR CODE HERE: collapse a Laplacian stack returning a single image\n",
    "    #\n",
    "    \n",
    "# create new (blended) stack by combining invidivual stack levels\n",
    "def create_blended_stack(ls1, ls2, gs):\n",
    "    #\n",
    "    # YOUR CODE HERE: create and return a stack that blends Laplacian stacks ls1 and ls2\n",
    "    #                 with mask in Gaussian stack gs\n",
    "    #\n",
    "\n",
    "# perofrm image blending \n",
    "def multires_blending(img1, img2, mask, levels):\n",
    "    gs_1, ls_1 = gaussian_and_laplacian_stack(img1, levels)\n",
    "    gs_2, ls_2 = gaussian_and_laplacian_stack(img2, levels)\n",
    "    gs_m, _    = gaussian_and_laplacian_stack(mask, levels)\n",
    "    blended_ls = create_blended_stack(ls_1, ls_2, gs_m) # blend\n",
    "    return collapse_laplacian_stack(blended_ls)"
   ]
  },
  {
   "cell_type": "code",
   "execution_count": null,
   "metadata": {
    "scrolled": false
   },
   "outputs": [],
   "source": [
    "# load images\n",
    "im1 = plt.imread( \"a4-hf.png\" )\n",
    "im2 = plt.imread( \"a4-terminator.png\" )\n",
    "msk = plt.imread( \"a4-mask.png\" )\n",
    "\n",
    "# create Gaussian and Laplacian stacks\n",
    "levels     = 6\n",
    "gs_a, ls_a = gaussian_and_laplacian_stack(im1, levels)\n",
    "gs_o, ls_o = gaussian_and_laplacian_stack(im2, levels)\n",
    "gs_m, _    = gaussian_and_laplacian_stack(msk, levels)\n",
    "\n",
    "# visualize all the stacks\n",
    "visualize_stack(ls_a, levels, title='laplacian hf')\n",
    "visualize_stack(ls_o, levels, title='laplacian terminator')"
   ]
  },
  {
   "cell_type": "code",
   "execution_count": null,
   "metadata": {},
   "outputs": [],
   "source": [
    "blend = normalize_img(multires_blending(im1, im2, msk, levels))\n",
    "\n",
    "dpi  = 72.0 \n",
    "height, width = blend.shape\n",
    "figsize = width/dpi, height/dpi\n",
    "plt.figure(figsize=figsize)\n",
    "plt.imshow(blend)\n",
    "plt.axis(\"off\")\n",
    "plt.gray()\n",
    "plt.show()"
   ]
  }
 ],
 "metadata": {
  "kernelspec": {
   "display_name": "Python 3 (ipykernel)",
   "language": "python",
   "name": "python3"
  },
  "language_info": {
   "codemirror_mode": {
    "name": "ipython",
    "version": 3
   },
   "file_extension": ".py",
   "mimetype": "text/x-python",
   "name": "python",
   "nbconvert_exporter": "python",
   "pygments_lexer": "ipython3",
   "version": "3.9.12"
  }
 },
 "nbformat": 4,
 "nbformat_minor": 2
}
