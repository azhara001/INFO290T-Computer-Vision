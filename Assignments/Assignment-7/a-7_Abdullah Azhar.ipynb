{
 "cells": [
  {
   "cell_type": "code",
   "execution_count": 1,
   "id": "ba936052",
   "metadata": {},
   "outputs": [
    {
     "name": "stdout",
     "output_type": "stream",
     "text": [
      "libraries imported!\n"
     ]
    }
   ],
   "source": [
    "import numpy as np\n",
    "from skimage import feature\n",
    "import matplotlib.pyplot as plt\n",
    "import cv2\n",
    "print('libraries imported!')"
   ]
  },
  {
   "cell_type": "code",
   "execution_count": null,
   "id": "b8a6d5a0",
   "metadata": {},
   "outputs": [],
   "source": []
  },
  {
   "cell_type": "code",
   "execution_count": 15,
   "id": "b89344e0",
   "metadata": {},
   "outputs": [],
   "source": [
    "def RGB_to_Gray(I):\n",
    "    \"\"\"\n",
    "    This Function averages out all the corressponding values of the channel in an image to produce a grey scale image\n",
    "    \"\"\"\n",
    "    \n",
    "    channels = I.shape[2]\n",
    "    I_avg = np.zeros((I.shape[0],I.shape[1]))\n",
    "    for channel in range(channels):\n",
    "        I_avg = I_avg + I[:,:,channel]\n",
    "    I_avg = I_avg/channels\n",
    "    plt.imshow(I_avg,cmap=\"gray\")\n",
    "    plt.title(\"Grey Scale Image\")\n",
    "    return I_avg \n",
    "    "
   ]
  },
  {
   "cell_type": "code",
   "execution_count": 16,
   "id": "c36f19f8",
   "metadata": {},
   "outputs": [],
   "source": [
    "def Images_Discs(path=\"\"):\n",
    "    import os\n",
    "    directory = os.listdir(path)\n",
    "    images = []\n",
    "    for image in directory:\n",
    "        images.append(plt.imread(os.path.join(path,image)))\n",
    "    return images\n",
    "        "
   ]
  },
  {
   "cell_type": "code",
   "execution_count": null,
   "id": "a278478c",
   "metadata": {},
   "outputs": [],
   "source": []
  },
  {
   "cell_type": "code",
   "execution_count": 17,
   "id": "331eb6ef",
   "metadata": {},
   "outputs": [
    {
     "name": "stdout",
     "output_type": "stream",
     "text": [
      "Salient Edge Indices Computed!\n"
     ]
    },
    {
     "data": {
      "text/plain": [
       "(4286, 2)"
      ]
     },
     "execution_count": 17,
     "metadata": {},
     "output_type": "execute_result"
    },
    {
     "data": {
      "image/png": "[encoded data removed]",
      "text/plain": [
       "<Figure size 432x288 with 1 Axes>"
      ]
     },
     "metadata": {
      "needs_background": "light"
     },
     "output_type": "display_data"
    }
   ],
   "source": [
    "## int main()\n",
    "path = \"a7-discs\"\n",
    "Images = Images_Discs(path)\n",
    "Images_grey = []\n",
    "\n",
    "for image in Images:\n",
    "    Images_grey.append(cv2.cvtColor(image, cv2.COLOR_BGR2GRAY))\n",
    "\n",
    "#gray = cv2.cvtColor(image, cv2.COLOR_BGR2GRAY)\n",
    "#testing with the first image for now\n",
    "\n",
    "I_grey = Images_grey[0]\n",
    "plt.imshow(I_grey,cmap=\"gray\")\n",
    "\n",
    "Salients = feature.canny(image=I_grey, sigma=2.5).astype(np.int32)\n",
    "\n",
    "\n",
    "\n",
    "Salients_indices = np.argwhere(Salients)\n",
    "print('Salient Edge Indices Computed!')\n",
    "plt.imshow(Salients,cmap=\"gray\")\n",
    "\n",
    "test = I_grey\n",
    "Salients_indices.shape"
   ]
  },
  {
   "cell_type": "markdown",
   "id": "465301ef",
   "metadata": {},
   "source": [
    "### EM Iterations:"
   ]
  },
  {
   "cell_type": "code",
   "execution_count": 18,
   "id": "12f0519d",
   "metadata": {},
   "outputs": [
    {
     "name": "stdout",
     "output_type": "stream",
     "text": [
      "Matrix B generated with the following dimensions: 4286 rows and 4 columns\n",
      "weights of model 1 have been computed with the 4286 rows and 4286 columns\n",
      "weights of model 2 have been computed with the 4286 rows and 4286 columns\n",
      "svds computed\n"
     ]
    }
   ],
   "source": [
    "niters = 25\n",
    "\n",
    "#initial parameters for the two models prior to perform EM\n",
    "Cx = I_grey.shape[0]//2\n",
    "Cy = I_grey.shape[1]//2\n",
    "sigma = 128\n",
    "r = 190\n",
    "\n",
    "X = Salients_indices[:,0]\n",
    "Y = Salients_indices[:,1]\n",
    "#equation of a circle is: (X-Cx)^2 + (Y-Cy)^2 = r^2\n",
    "#compute the residual of each point from the circle equation\n",
    "#for the outliers, the residual probability is assumed uniform as 1/10\n",
    "#the M-step should estimate the Cx, Cy, and r\n",
    "\n",
    "# Computing B (as mentioned in Section-2 of Least-Squares Fitting of Circles and Ellipses)\n",
    "B = np.vstack(((X**2+Y**2),X,Y,np.ones((X.shape[0])))).T\n",
    "print(f\"Matrix B generated with the following dimensions: {B.shape[0]} rows and {B.shape[1]} columns\")\n",
    "\n",
    "for niter in range(niters):\n",
    "    \n",
    "    # E-STEP\n",
    "    d = np.abs(np.sqrt((X-Cx)**2+(Y-Cy)**2)-r) #using the model parameters estimated in the previous loop\n",
    "    # computing the new residuals \n",
    "    \n",
    "    prob_model_1 = np.exp(-d/sigma)**2 #probability is gaussian in nature\n",
    "    prob_model_2 = 1/10 #probability is uniform in nature i.e., same across all points. No need to reshape this \n",
    "    # as broadcasting will automatically ensure dimensions are of the correct order\n",
    "    denominator = prob_model_1+prob_model_2 #Assuming Equal Priors i.e., every data point initially is equally \n",
    "    # likely to belong to either one of the two models\n",
    "    \n",
    "    residual_1 = prob_model_1/denominator\n",
    "    residual_1 = np.identity((residual_1.shape[0]))*np.reshape(residual_1,(residual_1.shape[0],1)) #setting up\n",
    "    # the weights matrix with the shape nxn using identity matrix\n",
    "    \n",
    "    residual_2 = prob_model_2/denominator\n",
    "    residual_2 = np.identity((residual_2.shape[0]))*np.reshape(residual_2,(residual_2.shape[0],1)) #setting up\n",
    "    # the weights matrix with the shape nxn using identity matrix\n",
    "    \n",
    "    print(f\"weights of model 1 have been computed with the {residual_1.shape[0]} rows and {residual_1.shape[1]} columns\")\n",
    "    print(f\"weights of model 2 have been computed with the {residual_2.shape[0]} rows and {residual_2.shape[1]} columns\")\n",
    "    \n",
    "    #Now that we have our residuals, we need to reupdate the model parameters. Since model 1 is a circle, we \n",
    "    # need to reestimate the Cx, Cy, r. Model 2 is an outlier model so no parameters to be updated. \n",
    "    \n",
    "    # M-STEP\n",
    "    for_svd_model_1 = residual_1@B #should give us nx4 matrix\n",
    "    for_svd_model_2 = residual_2@B #should give us nx4 matrix\n",
    "\n",
    "    u1,s1,v1 = np.linalg.svd(for_svd_model_1)\n",
    "    u2,s2,v2 = np.linalg.svd(for_svd_model_2)\n",
    "    print(\"svds computed\")\n",
    "    \n",
    "    break"
   ]
  },
  {
   "cell_type": "code",
   "execution_count": 20,
   "id": "b15d60c5",
   "metadata": {},
   "outputs": [
    {
     "data": {
      "text/plain": [
       "(4286, 4286)"
      ]
     },
     "execution_count": 20,
     "metadata": {},
     "output_type": "execute_result"
    }
   ],
   "source": [
    "u1.shape"
   ]
  },
  {
   "cell_type": "code",
   "execution_count": 21,
   "id": "fea9a5c7",
   "metadata": {},
   "outputs": [
    {
     "data": {
      "text/plain": [
       "(4,)"
      ]
     },
     "execution_count": 21,
     "metadata": {},
     "output_type": "execute_result"
    }
   ],
   "source": [
    "s1.shape"
   ]
  },
  {
   "cell_type": "code",
   "execution_count": 22,
   "id": "63ad08d7",
   "metadata": {},
   "outputs": [
    {
     "data": {
      "text/plain": [
       "(4, 4)"
      ]
     },
     "execution_count": 22,
     "metadata": {},
     "output_type": "execute_result"
    }
   ],
   "source": [
    "v1.shape"
   ]
  },
  {
   "cell_type": "code",
   "execution_count": 23,
   "id": "0b7c2eee",
   "metadata": {},
   "outputs": [
    {
     "data": {
      "text/plain": [
       "array([8.96685580e+06, 7.40086334e+03, 3.49421805e+03, 1.41905118e+01])"
      ]
     },
     "execution_count": 23,
     "metadata": {},
     "output_type": "execute_result"
    }
   ],
   "source": [
    "s1"
   ]
  },
  {
   "cell_type": "code",
   "execution_count": null,
   "id": "c2a9db7a",
   "metadata": {},
   "outputs": [],
   "source": [
    "x = np.array([[1,2,3],[4,5,6],[7,8,9],[10,11,12]])"
   ]
  },
  {
   "cell_type": "code",
   "execution_count": null,
   "id": "2498dfca",
   "metadata": {},
   "outputs": [],
   "source": [
    "x.shape"
   ]
  },
  {
   "cell_type": "code",
   "execution_count": null,
   "id": "8d1fb41e",
   "metadata": {},
   "outputs": [],
   "source": [
    "u,s,v = np.linalg.svd(x)"
   ]
  },
  {
   "cell_type": "code",
   "execution_count": null,
   "id": "d4720c88",
   "metadata": {},
   "outputs": [],
   "source": [
    "u[2]"
   ]
  },
  {
   "cell_type": "code",
   "execution_count": null,
   "id": "a5c16283",
   "metadata": {},
   "outputs": [],
   "source": [
    "v.shape"
   ]
  },
  {
   "cell_type": "code",
   "execution_count": null,
   "id": "0202e2a1",
   "metadata": {},
   "outputs": [],
   "source": [
    "s.shape"
   ]
  },
  {
   "cell_type": "code",
   "execution_count": null,
   "id": "ed2169d7",
   "metadata": {},
   "outputs": [],
   "source": [
    "s"
   ]
  },
  {
   "cell_type": "code",
   "execution_count": 24,
   "id": "2a26c821",
   "metadata": {},
   "outputs": [
    {
     "ename": "ModuleNotFoundError",
     "evalue": "No module named 'tensorflow'",
     "output_type": "error",
     "traceback": [
      "\u001b[0;31m---------------------------------------------------------------------------\u001b[0m",
      "\u001b[0;31mModuleNotFoundError\u001b[0m                       Traceback (most recent call last)",
      "\u001b[0;32m/var/folders/x7/x0ssjnwd7plfd4zt1413nh0w0000gn/T/ipykernel_9887/3793406994.py\u001b[0m in \u001b[0;36m<module>\u001b[0;34m\u001b[0m\n\u001b[0;32m----> 1\u001b[0;31m \u001b[0;32mimport\u001b[0m \u001b[0mtensorflow\u001b[0m \u001b[0;32mas\u001b[0m \u001b[0mtf\u001b[0m\u001b[0;34m\u001b[0m\u001b[0;34m\u001b[0m\u001b[0m\n\u001b[0m",
      "\u001b[0;31mModuleNotFoundError\u001b[0m: No module named 'tensorflow'"
     ]
    }
   ],
   "source": [
    "import tensorflow as tf"
   ]
  },
  {
   "cell_type": "code",
   "execution_count": null,
   "id": "db660eb9",
   "metadata": {},
   "outputs": [],
   "source": []
  }
 ],
 "metadata": {
  "kernelspec": {
   "display_name": "Python 3 (ipykernel)",
   "language": "python",
   "name": "python3"
  },
  "language_info": {
   "codemirror_mode": {
    "name": "ipython",
    "version": 3
   },
   "file_extension": ".py",
   "mimetype": "text/x-python",
   "name": "python",
   "nbconvert_exporter": "python",
   "pygments_lexer": "ipython3",
   "version": "3.9.12"
  }
 },
 "nbformat": 4,
 "nbformat_minor": 5
}
