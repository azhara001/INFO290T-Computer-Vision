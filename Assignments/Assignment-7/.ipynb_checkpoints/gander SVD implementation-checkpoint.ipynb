{
 "cells": [
  {
   "cell_type": "code",
   "execution_count": 8,
   "id": "2e3959b8",
   "metadata": {},
   "outputs": [
    {
     "name": "stdout",
     "output_type": "stream",
     "text": [
      "libraries imported!\n"
     ]
    }
   ],
   "source": [
    "%reset -f\n",
    "import numpy as np\n",
    "from skimage import feature\n",
    "import matplotlib.pyplot as plt\n",
    "import cv2\n",
    "import os\n",
    "from IPython.display import clear_output\n",
    "from time import sleep\n",
    "print('libraries imported!')"
   ]
  },
  {
   "cell_type": "code",
   "execution_count": 9,
   "id": "26dba8cf",
   "metadata": {},
   "outputs": [
    {
     "data": {
      "text/plain": [
       "array([[ 50.,   1.,   7.,   1.],\n",
       "       [ 40.,   2.,   6.,   1.],\n",
       "       [ 89.,   5.,   8.,   1.],\n",
       "       [ 98.,   7.,   7.,   1.],\n",
       "       [106.,   9.,   5.,   1.],\n",
       "       [ 58.,   3.,   7.,   1.]])"
      ]
     },
     "execution_count": 9,
     "metadata": {},
     "output_type": "execute_result"
    }
   ],
   "source": [
    "X = np.array([1,2,5,7,9,3])\n",
    "Y= np.array([7,6,8,7,5,7])\n",
    "B = np.vstack(((X**2+Y**2),X,Y,np.ones((X.shape[0])))).T\n",
    "B"
   ]
  },
  {
   "cell_type": "code",
   "execution_count": 10,
   "id": "49ea555b",
   "metadata": {},
   "outputs": [],
   "source": [
    "u1,s1,v1 = np.linalg.svd(B)\n",
    "s1_min = np.where(s1 == s1.min())[0] # now we need to pick this column from the v1 matrix having the minimum value \n",
    "m1_params = v1[s1_min[0],:] # a 1x4 column vector should be returned (a,b1,b2,c)\n",
    "\n",
    "Cx_new = -m1_params[1]/(2*m1_params[0])\n",
    "Cy_new = -m1_params[2]/(2*m1_params[0])\n",
    "\n",
    "c_a = m1_params[3]/m1_params[0] #c/a\n",
    "b_mag =  (m1_params[1]**2+m1_params[2]**2)#||b||^2\n",
    "\n",
    "r_new = np.sqrt((b_mag/(4*m1_params[0]**2))-(c_a))\n"
   ]
  },
  {
   "cell_type": "code",
   "execution_count": 11,
   "id": "2d6b6868",
   "metadata": {},
   "outputs": [
    {
     "name": "stdout",
     "output_type": "stream",
     "text": [
      "Cx is: 5.379413317248785\n",
      "Cy is: 7.2531984768161495\n",
      "Radius is: 3.0370414582692375\n"
     ]
    }
   ],
   "source": [
    "print(f\"Cx is: {Cx_new}\")\n",
    "print(f\"Cy is: {Cy_new}\")\n",
    "print(f\"Radius is: {r_new}\")"
   ]
  },
  {
   "cell_type": "code",
   "execution_count": null,
   "id": "10de941a",
   "metadata": {},
   "outputs": [],
   "source": []
  }
 ],
 "metadata": {
  "kernelspec": {
   "display_name": "Python 3 (ipykernel)",
   "language": "python",
   "name": "python3"
  },
  "language_info": {
   "codemirror_mode": {
    "name": "ipython",
    "version": 3
   },
   "file_extension": ".py",
   "mimetype": "text/x-python",
   "name": "python",
   "nbconvert_exporter": "python",
   "pygments_lexer": "ipython3",
   "version": "3.9.12"
  }
 },
 "nbformat": 4,
 "nbformat_minor": 5
}
